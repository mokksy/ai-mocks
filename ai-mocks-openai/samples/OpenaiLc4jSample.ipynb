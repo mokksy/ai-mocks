{
 "cells": [
  {
   "metadata": {},
   "cell_type": "raw",
   "source": "# AI-Mocks OpenAI with LangChain4J"
  },
  {
   "cell_type": "code",
   "metadata": {
    "collapsed": true,
    "ExecuteTime": {
     "end_time": "2025-03-28T20:21:33.259402Z",
     "start_time": "2025-03-28T20:21:23.676493Z"
    }
   },
   "source": [
    "%useLatestDescriptors\n",
    "%use coroutines\n",
    "\n",
    "@file:DependsOn(\"me.kpavlov.aimocks:ai-mocks-openai:0.1.10\")\n",
    "@file:DependsOn(\"dev.langchain4j:langchain4j-open-ai:1.0.0-beta1\")"
   ],
   "outputs": [],
   "execution_count": 2
  },
  {
   "metadata": {
    "ExecuteTime": {
     "end_time": "2025-03-28T20:21:17.503862Z",
     "start_time": "2025-03-11T22:20:26.096744Z"
    }
   },
   "cell_type": "code",
   "source": [
    "import me.kpavlov.aimocks.openai.MockOpenai\n",
    "import dev.langchain4j.data.message.UserMessage.userMessage\n",
    "import dev.langchain4j.model.chat.chat\n",
    "import dev.langchain4j.model.openai.OpenAiChatModel\n",
    "import dev.langchain4j.model.openai.OpenAiChatRequestParameters\n",
    "import dev.langchain4j.model.output.FinishReason\n",
    "import io.kotest.matchers.shouldBe\n",
    "import io.kotest.matchers.shouldNotBe\n",
    "\n",
    "val openai = MockOpenai(verbose = true)\n",
    "\n",
    "val model: OpenAiChatModel =\n",
    "  OpenAiChatModel\n",
    "    .builder()\n",
    "    .apiKey(\"foo\")\n",
    "    .baseUrl(openai.baseUrl())\n",
    "    .build()\n",
    "\n",
    "openai.completion {\n",
    "  temperature = 0.42\n",
    "  seed = 100500\n",
    "  model = \"4o\"\n",
    "  maxCompletionTokens = 120\n",
    "} responds {\n",
    "  assistantContent = \"Hello\"\n",
    "  finishReason = \"stop\"\n",
    "}\n",
    "\n",
    "runBlocking {\n",
    "\n",
    "  val result =\n",
    "    model.chat {\n",
    "      parameters =\n",
    "        OpenAiChatRequestParameters\n",
    "          .builder()\n",
    "          .maxCompletionTokens(120)\n",
    "          .temperature(0.42)\n",
    "          .modelName(\"4o\")\n",
    "          .seed(100500)\n",
    "          .build()\n",
    "      messages += userMessage(\"Say Hello\")\n",
    "    }\n",
    "\n",
    "  result.apply {\n",
    "    finishReason() shouldBe FinishReason.STOP\n",
    "    tokenUsage() shouldNotBe null\n",
    "    aiMessage().text() shouldBe \"Hello\"\n",
    "  }\n",
    "\n",
    "  println(\"OpenAI Response: ${result.aiMessage().text()}\")\n",
    "}"
   ],
   "outputs": [
    {
     "name": "stdout",
     "output_type": "stream",
     "text": [
      "OpenAI Response: Hello\n"
     ]
    }
   ],
   "execution_count": 22
  }
 ],
 "metadata": {
  "kernelspec": {
   "display_name": "Kotlin",
   "language": "kotlin",
   "name": "kotlin"
  },
  "language_info": {
   "name": "kotlin",
   "version": "1.9.23",
   "mimetype": "text/x-kotlin",
   "file_extension": ".kt",
   "pygments_lexer": "kotlin",
   "codemirror_mode": "text/x-kotlin",
   "nbconvert_exporter": ""
  }
 },
 "nbformat": 4,
 "nbformat_minor": 0
}
