{
 "cells": [
  {
   "metadata": {},
   "cell_type": "raw",
   "source": "# AI-Mocks OpenAI with LangChain4J"
  },
  {
   "cell_type": "code",
   "metadata": {
    "collapsed": true,
    "ExecuteTime": {
     "end_time": "2025-09-21T08:33:23.068468Z",
     "start_time": "2025-09-21T08:33:22.912180Z"
    }
   },
   "source": [
    "%useLatestDescriptors\n",
    "%use coroutines\n",
    "USE {\n",
    "  repositories {\n",
    "    mavenLocal()\n",
    "    mavenCentral()\n",
    "  }\n",
    "  dependencies(\n",
    "    \"me.kpavlov.aimocks:ai-mocks-openai-standalone:0.5.0-Beta02\",\n",
    "    \"io.kotest:kotest-assertions-core:5.9.1\",\n",
    "    \"dev.langchain4j:langchain4j-open-ai:1.5.0\",\n",
    "    \"dev.langchain4j:langchain4j-kotlin:1.5.0-beta11\",\n",
    "  )\n",
    "}"
   ],
   "outputs": [],
   "execution_count": 3
  },
  {
   "metadata": {
    "ExecuteTime": {
     "end_time": "2025-09-21T08:33:27.746433Z",
     "start_time": "2025-09-21T08:33:27.667009Z"
    }
   },
   "cell_type": "code",
   "source": [
    "import me.kpavlov.aimocks.openai.MockOpenai\n",
    "import dev.langchain4j.data.message.UserMessage.userMessage\n",
    "import dev.langchain4j.model.chat.chat\n",
    "import dev.langchain4j.model.openai.OpenAiChatModel\n",
    "import dev.langchain4j.model.openai.OpenAiChatRequestParameters\n",
    "import dev.langchain4j.model.output.FinishReason\n",
    "import io.kotest.matchers.shouldBe\n",
    "import io.kotest.matchers.shouldNotBe\n",
    "\n",
    "val openai = MockOpenai(verbose = true, port = 0)\n",
    "\n",
    "val model: OpenAiChatModel =\n",
    "  OpenAiChatModel\n",
    "    .builder()\n",
    "    .apiKey(\"foo\")\n",
    "    .baseUrl(openai.baseUrl())\n",
    "    .build()\n",
    "\n",
    "openai.completion {\n",
    "//  temperature(0.42) = 0.42\n",
    "//  seed = 100500\n",
    "  model = \"4o\"\n",
    "  maxTokens = 120\n",
    "} responds {\n",
    "  assistantContent = \"Hello\"\n",
    "  finishReason = \"stop\"\n",
    "}\n",
    "\n",
    "runBlocking {\n",
    "\n",
    "  val result =\n",
    "    model.chat {\n",
    "      parameters =\n",
    "        OpenAiChatRequestParameters\n",
    "          .builder()\n",
    "          .maxCompletionTokens(120)\n",
    "          .temperature(0.42)\n",
    "          .modelName(\"4o\")\n",
    "          .seed(100500)\n",
    "          .build()\n",
    "      messages += userMessage(\"Say Hello\")\n",
    "    }\n",
    "\n",
    "  result.apply {\n",
    "    finishReason() shouldBe FinishReason.STOP\n",
    "    tokenUsage() shouldNotBe null\n",
    "    aiMessage().text() shouldBe \"Hello\"\n",
    "  }\n",
    "\n",
    "  println(\"OpenAI Response: ${result.aiMessage().text()}\")\n",
    "}"
   ],
   "outputs": [
    {
     "ename": "org.jetbrains.kotlinx.jupyter.exceptions.ReplCompilerException",
     "evalue": "at Cell In[4], line 3, column 35: Unresolved reference: chat\nat Cell In[4], line 10, column 14: None of the following functions can be called with the arguments supplied: \npublic constructor MockOpenai() defined in me.kpavlov.aimocks.openai.MockOpenai\npublic constructor MockOpenai(port: Int, verbose: Boolean) defined in me.kpavlov.aimocks.openai.MockOpenai\nat Cell In[4], line 20, column 3: Unresolved reference: temperature\nat Cell In[4], line 21, column 3: Unresolved reference: seed\nat Cell In[4], line 22, column 3: Val cannot be reassigned\nat Cell In[4], line 22, column 11: Type mismatch: inferred type is String but OpenAiChatModel was expected\nat Cell In[4], line 23, column 3: Unresolved reference: maxTokens\nat Cell In[4], line 25, column 3: Unresolved reference: assistantContent\nat Cell In[4], line 26, column 3: Unresolved reference: finishReason\nat Cell In[4], line 32, column 11: None of the following functions can be called with the arguments supplied: \npublic open fun chat(p0: ChatRequest!): ChatResponse! defined in dev.langchain4j.model.openai.OpenAiChatModel\npublic open fun chat(vararg p0: ChatMessage!): ChatResponse! defined in dev.langchain4j.model.openai.OpenAiChatModel\npublic open fun chat(p0: String!): String! defined in dev.langchain4j.model.openai.OpenAiChatModel\npublic open fun chat(p0: (Mutable)List<ChatMessage!>!): ChatResponse! defined in dev.langchain4j.model.openai.OpenAiChatModel\nat Cell In[4], line 33, column 7: Unresolved reference: parameters\nat Cell In[4], line 41, column 7: Unresolved reference: messages\nat Cell In[4], line 41, column 16: Unresolved reference: +=\nat Cell In[4], line 45, column 5: Unresolved reference: finishReason\nat Cell In[4], line 46, column 5: Unresolved reference: tokenUsage\nat Cell In[4], line 47, column 5: Unresolved reference: aiMessage",
     "output_type": "error",
     "traceback": [
      "org.jetbrains.kotlinx.jupyter.exceptions.ReplCompilerException: at Cell In[4], line 3, column 35: Unresolved reference: chat",
      "at Cell In[4], line 10, column 14: None of the following functions can be called with the arguments supplied: ",
      "public constructor MockOpenai() defined in me.kpavlov.aimocks.openai.MockOpenai",
      "public constructor MockOpenai(port: Int, verbose: Boolean) defined in me.kpavlov.aimocks.openai.MockOpenai",
      "at Cell In[4], line 20, column 3: Unresolved reference: temperature",
      "at Cell In[4], line 21, column 3: Unresolved reference: seed",
      "at Cell In[4], line 22, column 3: Val cannot be reassigned",
      "at Cell In[4], line 22, column 11: Type mismatch: inferred type is String but OpenAiChatModel was expected",
      "at Cell In[4], line 23, column 3: Unresolved reference: maxTokens",
      "at Cell In[4], line 25, column 3: Unresolved reference: assistantContent",
      "at Cell In[4], line 26, column 3: Unresolved reference: finishReason",
      "at Cell In[4], line 32, column 11: None of the following functions can be called with the arguments supplied: ",
      "public open fun chat(p0: ChatRequest!): ChatResponse! defined in dev.langchain4j.model.openai.OpenAiChatModel",
      "public open fun chat(vararg p0: ChatMessage!): ChatResponse! defined in dev.langchain4j.model.openai.OpenAiChatModel",
      "public open fun chat(p0: String!): String! defined in dev.langchain4j.model.openai.OpenAiChatModel",
      "public open fun chat(p0: (Mutable)List<ChatMessage!>!): ChatResponse! defined in dev.langchain4j.model.openai.OpenAiChatModel",
      "at Cell In[4], line 33, column 7: Unresolved reference: parameters",
      "at Cell In[4], line 41, column 7: Unresolved reference: messages",
      "at Cell In[4], line 41, column 16: Unresolved reference: +=",
      "at Cell In[4], line 45, column 5: Unresolved reference: finishReason",
      "at Cell In[4], line 46, column 5: Unresolved reference: tokenUsage",
      "at Cell In[4], line 47, column 5: Unresolved reference: aiMessage",
      "\tat org.jetbrains.kotlinx.jupyter.repl.impl.JupyterCompilerImpl.compileSync(JupyterCompilerImpl.kt:151)",
      "\tat org.jetbrains.kotlinx.jupyter.repl.impl.InternalEvaluatorImpl.eval(InternalEvaluatorImpl.kt:126)",
      "\tat org.jetbrains.kotlinx.jupyter.repl.impl.CellExecutorImpl.execute_L4Nmkdk$lambda$0$0(CellExecutorImpl.kt:80)",
      "\tat org.jetbrains.kotlinx.jupyter.repl.impl.ReplForJupyterImpl.withHost(ReplForJupyterImpl.kt:791)",
      "\tat org.jetbrains.kotlinx.jupyter.repl.impl.CellExecutorImpl.execute-L4Nmkdk(CellExecutorImpl.kt:78)",
      "\tat org.jetbrains.kotlinx.jupyter.repl.execution.CellExecutor.execute-L4Nmkdk$default(CellExecutor.kt:14)",
      "\tat org.jetbrains.kotlinx.jupyter.repl.impl.ReplForJupyterImpl.evaluateUserCode-wNURfNM(ReplForJupyterImpl.kt:616)",
      "\tat org.jetbrains.kotlinx.jupyter.repl.impl.ReplForJupyterImpl.evalExImpl(ReplForJupyterImpl.kt:474)",
      "\tat org.jetbrains.kotlinx.jupyter.repl.impl.ReplForJupyterImpl.evalEx$lambda$0(ReplForJupyterImpl.kt:468)",
      "\tat org.jetbrains.kotlinx.jupyter.repl.impl.ReplForJupyterImpl.withEvalContext(ReplForJupyterImpl.kt:450)",
      "\tat org.jetbrains.kotlinx.jupyter.repl.impl.ReplForJupyterImpl.evalEx(ReplForJupyterImpl.kt:467)",
      "\tat org.jetbrains.kotlinx.jupyter.messaging.IdeCompatibleMessageRequestProcessor.processExecuteRequest$lambda$0$0$0(IdeCompatibleMessageRequestProcessor.kt:160)",
      "\tat org.jetbrains.kotlinx.jupyter.streams.BlockingSubstitutionEngine.withDataSubstitution(SubstitutionEngine.kt:70)",
      "\tat org.jetbrains.kotlinx.jupyter.streams.StreamSubstitutionManager.withSubstitutedStreams(StreamSubstitutionManager.kt:118)",
      "\tat org.jetbrains.kotlinx.jupyter.messaging.IdeCompatibleMessageRequestProcessor.withForkedIn(IdeCompatibleMessageRequestProcessor.kt:350)",
      "\tat org.jetbrains.kotlinx.jupyter.messaging.IdeCompatibleMessageRequestProcessor.evalWithIO$lambda$0$0(IdeCompatibleMessageRequestProcessor.kt:363)",
      "\tat org.jetbrains.kotlinx.jupyter.streams.BlockingSubstitutionEngine.withDataSubstitution(SubstitutionEngine.kt:70)",
      "\tat org.jetbrains.kotlinx.jupyter.streams.StreamSubstitutionManager.withSubstitutedStreams(StreamSubstitutionManager.kt:118)",
      "\tat org.jetbrains.kotlinx.jupyter.messaging.IdeCompatibleMessageRequestProcessor.withForkedErr(IdeCompatibleMessageRequestProcessor.kt:340)",
      "\tat org.jetbrains.kotlinx.jupyter.messaging.IdeCompatibleMessageRequestProcessor.evalWithIO$lambda$0(IdeCompatibleMessageRequestProcessor.kt:362)",
      "\tat org.jetbrains.kotlinx.jupyter.streams.BlockingSubstitutionEngine.withDataSubstitution(SubstitutionEngine.kt:70)",
      "\tat org.jetbrains.kotlinx.jupyter.streams.StreamSubstitutionManager.withSubstitutedStreams(StreamSubstitutionManager.kt:118)",
      "\tat org.jetbrains.kotlinx.jupyter.messaging.IdeCompatibleMessageRequestProcessor.withForkedOut(IdeCompatibleMessageRequestProcessor.kt:333)",
      "\tat org.jetbrains.kotlinx.jupyter.messaging.IdeCompatibleMessageRequestProcessor.evalWithIO(IdeCompatibleMessageRequestProcessor.kt:361)",
      "\tat org.jetbrains.kotlinx.jupyter.messaging.IdeCompatibleMessageRequestProcessor.processExecuteRequest$lambda$0$0(IdeCompatibleMessageRequestProcessor.kt:159)",
      "\tat org.jetbrains.kotlinx.jupyter.execution.JupyterExecutorImpl$Task.execute(JupyterExecutorImpl.kt:41)",
      "\tat org.jetbrains.kotlinx.jupyter.execution.JupyterExecutorImpl.executorThread$lambda$0(JupyterExecutorImpl.kt:81)",
      "\tat kotlin.concurrent.ThreadsKt$thread$thread$1.run(Thread.kt:30)",
      ""
     ]
    }
   ],
   "execution_count": 4
  }
 ],
 "metadata": {
  "kernelspec": {
   "display_name": "Kotlin",
   "language": "kotlin",
   "name": "kotlin"
  },
  "language_info": {
   "name": "kotlin",
   "version": "1.9.23",
   "mimetype": "text/x-kotlin",
   "file_extension": ".kt",
   "pygments_lexer": "kotlin",
   "codemirror_mode": "text/x-kotlin",
   "nbconvert_exporter": ""
  }
 },
 "nbformat": 4,
 "nbformat_minor": 0
}
